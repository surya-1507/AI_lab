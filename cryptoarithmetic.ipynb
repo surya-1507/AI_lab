{
 "cells": [
  {
   "cell_type": "code",
   "execution_count": 1,
   "id": "4cf2c38c",
   "metadata": {},
   "outputs": [
    {
     "name": "stdout",
     "output_type": "stream",
     "text": [
      "Enter list of strings: Free Bird\n",
      "Enter output string: Cage\n",
      "{'F': 1, 'g': 2, 'r': 3, 'd': 0, 'e': 9, 'i': 4, 'C': 6, 'B': 5, 'a': 8}\n",
      "Solution found\n"
     ]
    }
   ],
   "source": [
    "#9\n",
    "import itertools\n",
    "\n",
    "def number(n, d):\n",
    "    t = 0\n",
    "    for i in n:\n",
    "        t = d[i] + (t * 10)\n",
    "    return t\n",
    "\n",
    "def test(l, s, d):\n",
    "    total_sum = 0\n",
    "    for i in l:\n",
    "        total_sum += number(i, d)\n",
    "    if total_sum == number(s, d):\n",
    "        return 1\n",
    "    return 0\n",
    "\n",
    "def check(d, c):\n",
    "    for i in d.keys():\n",
    "        if i in c and d[i] == 0:\n",
    "            return 1\n",
    "    return 0\n",
    "\n",
    "l = input('Enter list of strings: ').split()\n",
    "s = input('Enter output string: ')\n",
    "c = []\n",
    "for i in l:\n",
    "    c.append(i[0])\n",
    "c.append(s[0])\n",
    "\n",
    "p = list(set(''.join(l) + s))\n",
    "q = len(p)\n",
    "k = list(itertools.permutations(range(0, 10), q))\n",
    "d = {}\n",
    "found_solution = False\n",
    "\n",
    "for i in k:\n",
    "    for j in range(q):\n",
    "        d[p[j]] = i[j]\n",
    "    if check(d, c):\n",
    "        continue\n",
    "    if test(l, s, d) == 1:\n",
    "        found_solution = True\n",
    "        print(d)\n",
    "        print('Solution found')\n",
    "        break\n",
    "\n",
    "if not found_solution:\n",
    "    print('No solution found')\n"
   ]
  }
 ],
 "metadata": {
  "kernelspec": {
   "display_name": "Python 3 (ipykernel)",
   "language": "python",
   "name": "python3"
  },
  "language_info": {
   "codemirror_mode": {
    "name": "ipython",
    "version": 3
   },
   "file_extension": ".py",
   "mimetype": "text/x-python",
   "name": "python",
   "nbconvert_exporter": "python",
   "pygments_lexer": "ipython3",
   "version": "3.9.12"
  }
 },
 "nbformat": 4,
 "nbformat_minor": 5
}
