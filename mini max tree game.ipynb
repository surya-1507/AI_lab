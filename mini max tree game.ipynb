{
 "cells": [
  {
   "cell_type": "code",
   "execution_count": 1,
   "id": "e61a183b",
   "metadata": {
    "scrolled": true
   },
   "outputs": [
    {
     "name": "stdout",
     "output_type": "stream",
     "text": [
      "Enter the number of nodes: 8\n",
      "Enter the scores for each node:\n",
      "Node 0: 2\n",
      "Node 1: 3\n",
      "Node 2: 5\n",
      "Node 3: 9\n",
      "Node 4: 0\n",
      "Node 5: 1\n",
      "Node 6: 7\n",
      "Node 7: 5\n",
      "The optimal value is: 3\n"
     ]
    }
   ],
   "source": [
    "\n",
    "import math\n",
    "\n",
    "def minimax(curDepth, nodeIndex, maxTurn, scores, targetDepth):\n",
    "    # Base case: targetDepth reached\n",
    "    if curDepth == targetDepth:\n",
    "        return scores[nodeIndex]\n",
    "    \n",
    "    if maxTurn:\n",
    "        return max(minimax(curDepth + 1, nodeIndex * 2, False, scores, targetDepth),\n",
    "                   minimax(curDepth + 1, nodeIndex * 2 + 1, False, scores, targetDepth))\n",
    "    else:\n",
    "        return min(minimax(curDepth + 1, nodeIndex * 2, True, scores, targetDepth),\n",
    "                   minimax(curDepth + 1, nodeIndex * 2 + 1, True, scores, targetDepth))\n",
    "\n",
    "num_nodes = int(input(\"Enter the number of nodes: \"))\n",
    "scores = []\n",
    "\n",
    "print(\"Enter the scores for each node:\")\n",
    "for i in range(num_nodes):\n",
    "    score = int(input(f\"Node {i}: \"))\n",
    "    scores.append(score)\n",
    "\n",
    "treeDepth = int(math.log2(len(scores)))\n",
    "print(\"The optimal value is:\", minimax(0, 0, True, scores, treeDepth))\n"
   ]
  },
  {
   "cell_type": "code",
   "execution_count": 2,
   "id": "f3784856",
   "metadata": {},
   "outputs": [
    {
     "data": {
      "text/plain": [
       "3"
      ]
     },
     "execution_count": 2,
     "metadata": {},
     "output_type": "execute_result"
    }
   ],
   "source": [
    "int(math.log2(8))"
   ]
  }
 ],
 "metadata": {
  "kernelspec": {
   "display_name": "Python 3 (ipykernel)",
   "language": "python",
   "name": "python3"
  },
  "language_info": {
   "codemirror_mode": {
    "name": "ipython",
    "version": 3
   },
   "file_extension": ".py",
   "mimetype": "text/x-python",
   "name": "python",
   "nbconvert_exporter": "python",
   "pygments_lexer": "ipython3",
   "version": "3.9.12"
  }
 },
 "nbformat": 4,
 "nbformat_minor": 5
}
