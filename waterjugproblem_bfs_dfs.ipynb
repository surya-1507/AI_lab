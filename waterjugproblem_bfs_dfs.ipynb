{
 "cells": [
  {
   "cell_type": "markdown",
   "id": "4c69a3c0",
   "metadata": {},
   "source": [
    "# water using BFS"
   ]
  },
  {
   "cell_type": "code",
   "execution_count": 11,
   "id": "71528009",
   "metadata": {},
   "outputs": [
    {
     "name": "stdout",
     "output_type": "stream",
     "text": [
      "enter jug1 quantity4\n",
      "enter jug2 quantity3\n",
      "enter target2\n",
      "(0, 0)\n",
      "(4, 0)\n",
      "(1, 3)\n",
      "(1, 0)\n",
      "(0, 1)\n",
      "(4, 1)\n",
      "(2, 3)\n"
     ]
    }
   ],
   "source": [
    "from collections import deque\n",
    "def waterJugSolverBFS(jug1, jug2, aim):\n",
    "    queue = deque([(0, 0)])\n",
    "    visited = set([(0, 0)])\n",
    "    parents = {}\n",
    "\n",
    "    while queue:\n",
    "        current_state = queue.popleft()\n",
    "        amt1, amt2 = current_state\n",
    "\n",
    "        if amt1 == aim:\n",
    "            steps = []\n",
    "            while current_state != (0, 0):\n",
    "                steps.append(current_state)\n",
    "                current_state = parents[current_state]\n",
    "            steps.append((0, 0))\n",
    "            steps.reverse()\n",
    "            return steps\n",
    "\n",
    "        next_states = [\n",
    "            (jug1, amt2),  \n",
    "            (amt1, jug2),  \n",
    "            (0, amt2),     \n",
    "            (amt1, 0),     \n",
    "            (min(jug1, amt1 + amt2), max(0, amt1 + amt2 - jug1)),  \n",
    "            (max(0, amt1 + amt2 - jug2), min(jug2, amt1 + amt2))   \n",
    "        ]\n",
    "\n",
    "        for state in next_states:\n",
    "            if state not in visited:\n",
    "                queue.append(state)\n",
    "                visited.add(state)\n",
    "                parents[state] = current_state\n",
    "\n",
    "    return None\n",
    "jug1_capacity=int(input('enter jug1 quantity'))\n",
    "jug2_capacity=int(input('enter jug2 quantity'))\n",
    "desired_quantity=int(input('enter target'))\n",
    "\n",
    "solution = waterJugSolverBFS(jug1_capacity, jug2_capacity, desired_quantity)\n",
    "if solution:\n",
    "    for step in solution:\n",
    "        print(step)\n",
    "else:\n",
    "    print(\"No solution found.\")"
   ]
  },
  {
   "cell_type": "markdown",
   "id": "fdfa9fb0",
   "metadata": {},
   "source": [
    "# water jug using dfs "
   ]
  },
  {
   "cell_type": "code",
   "execution_count": 12,
   "id": "5960826d",
   "metadata": {},
   "outputs": [
    {
     "name": "stdout",
     "output_type": "stream",
     "text": [
      "enter jug1 quantity4\n",
      "enter jug2 quantity3\n",
      "enter target2\n",
      "(0, 0)\n",
      "(0, 3)\n",
      "(3, 0)\n",
      "(3, 3)\n",
      "(4, 2)\n",
      "(0, 2)\n",
      "(2, 0)\n"
     ]
    }
   ],
   "source": [
    "from collections import deque\n",
    "def waterJugSolverDFS(jug1, jug2, aim):\n",
    "    queue = deque([(0, 0)])\n",
    "    visited = set([(0, 0)])\n",
    "    parents = {}\n",
    "\n",
    "    while queue:\n",
    "        current_state = queue.pop()\n",
    "        amt1, amt2 = current_state\n",
    "\n",
    "        if amt1 == aim:\n",
    "            steps = []\n",
    "            while current_state != (0, 0):\n",
    "                steps.append(current_state)\n",
    "                current_state = parents[current_state]\n",
    "            steps.append((0, 0))\n",
    "            steps.reverse()\n",
    "            return steps\n",
    "\n",
    "        next_states = [\n",
    "            (jug1, amt2),  \n",
    "            (amt1, jug2),  \n",
    "            (0, amt2),     \n",
    "            (amt1, 0),     \n",
    "            (min(jug1, amt1 + amt2), max(0, amt1 + amt2 - jug1)),  \n",
    "            (max(0, amt1 + amt2 - jug2), min(jug2, amt1 + amt2))   \n",
    "        ]\n",
    "\n",
    "        for state in next_states:\n",
    "            if state not in visited:\n",
    "                queue.append(state)\n",
    "                visited.add(state)\n",
    "                parents[state] = current_state\n",
    "\n",
    "    return None\n",
    "jug1_capacity=int(input('enter jug1 quantity'))\n",
    "jug2_capacity=int(input('enter jug2 quantity'))\n",
    "desired_quantity=int(input('enter target'))\n",
    "\n",
    "solution = waterJugSolverDFS(jug1_capacity, jug2_capacity, desired_quantity)\n",
    "if solution:\n",
    "    for step in solution:\n",
    "        print(step)\n",
    "else:\n",
    "    print(\"No solution found.\")"
   ]
  },
  {
   "cell_type": "code",
   "execution_count": null,
   "id": "4cf5fa1a",
   "metadata": {},
   "outputs": [],
   "source": []
  }
 ],
 "metadata": {
  "kernelspec": {
   "display_name": "Python 3 (ipykernel)",
   "language": "python",
   "name": "python3"
  },
  "language_info": {
   "codemirror_mode": {
    "name": "ipython",
    "version": 3
   },
   "file_extension": ".py",
   "mimetype": "text/x-python",
   "name": "python",
   "nbconvert_exporter": "python",
   "pygments_lexer": "ipython3",
   "version": "3.9.7"
  }
 },
 "nbformat": 4,
 "nbformat_minor": 5
}
