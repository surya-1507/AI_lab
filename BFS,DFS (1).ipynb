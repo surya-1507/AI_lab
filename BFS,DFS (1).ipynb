{
 "cells": [
  {
   "cell_type": "code",
   "execution_count": 96,
   "id": "aae56444",
   "metadata": {},
   "outputs": [
    {
     "name": "stdout",
     "output_type": "stream",
     "text": [
      "1  2  3  \n",
      " 3 is found\n"
     ]
    }
   ],
   "source": [
    "g={'1':['2','3'],\n",
    "  '2':['4','5'],\n",
    "  '3':['6','7'],\n",
    "  '4':[],\n",
    "  '5':[],\n",
    "  '6':[],\n",
    "  '7':[]}\n",
    "vis=[]\n",
    "k=[]\n",
    "goal='3'\n",
    "def bfs(vis,g,node):\n",
    "    vis.append(node)\n",
    "    k.append(node)\n",
    "    while(k):\n",
    "        m=k.pop(0)\n",
    "        print(m ,end=\"  \")\n",
    "        for i in g[m]:\n",
    "            if i not in vis:\n",
    "                 if goal not in vis:\n",
    "                    vis.append(i)\n",
    "                    k.append(i)\n",
    "    if goal in vis:\n",
    "        print(\"\\n\",goal,\"is found\")\n",
    "    else:\n",
    "        print(\"none\")\n",
    "    \n",
    "bfs(vis,g,'1')"
   ]
  },
  {
   "cell_type": "code",
   "execution_count": 92,
   "id": "21ee76f6",
   "metadata": {},
   "outputs": [
    {
     "name": "stdout",
     "output_type": "stream",
     "text": [
      "['1']\n",
      "['1', '2']\n",
      "['1', '2', '4']\n",
      "['1', '2', '4', '5']\n",
      "['1', '2', '4', '5', '3']\n",
      "['1', '2', '4', '5', '3', '6']\n",
      "\n",
      " 6 is found\n"
     ]
    }
   ],
   "source": [
    "gr={'1':['2','3'],\n",
    "  '2':['4','5'],\n",
    "  '3':['6','7'],\n",
    "  '4':[],\n",
    "  '5':[],\n",
    "  '6':[],\n",
    "  '7':[]}\n",
    "vis=[]\n",
    "goal='6'\n",
    "def dfs(vis,gr,node):\n",
    "    if node not in vis:\n",
    "        if goal not in vis:\n",
    "            vis.append(node)\n",
    "            print(vis)\n",
    "            for i in gr[node]:\n",
    "                dfs(vis,gr,i)\n",
    "dfs(vis,gr,'1')\n",
    "if goal in vis:\n",
    "    print(\"\\n\",goal,\"is found\")\n",
    "else:\n",
    "    print(goal,\"is not found\")"
   ]
  },
  {
   "cell_type": "markdown",
   "id": "be340f9e",
   "metadata": {},
   "source": [
    "# bfs"
   ]
  },
  {
   "cell_type": "code",
   "execution_count": 32,
   "id": "ac5f68e5",
   "metadata": {},
   "outputs": [
    {
     "name": "stdout",
     "output_type": "stream",
     "text": [
      "1\n",
      "2\n",
      "3\n",
      "4\n",
      "5\n",
      "Goal is found\n",
      "6\n",
      "7\n"
     ]
    }
   ],
   "source": [
    "gr={1:[2,3],\n",
    "  2:[4,5],\n",
    "  3:[6,7],\n",
    "  4:[],\n",
    "  5:[],\n",
    "  6:[],\n",
    "  7:[]}\n",
    "def bfs(gr,st,goal):\n",
    "    explored=[]\n",
    "    frontier=[]\n",
    "    explored.append(st)\n",
    "    frontier.append(st)\n",
    "    while frontier:\n",
    "        m=frontier.pop(0)\n",
    "        print(m,end='\\n')\n",
    "        if m==goal:\n",
    "            print(\"Goal is found\")\n",
    "        for n in gr[m]:\n",
    "            if n not in explored:\n",
    "                explored.append(n)\n",
    "                frontier.append(n)\n",
    "bfs(gr,1,5)"
   ]
  },
  {
   "cell_type": "markdown",
   "id": "5542d28f",
   "metadata": {},
   "source": [
    "# dfs"
   ]
  },
  {
   "cell_type": "code",
   "execution_count": 22,
   "id": "6111e74c",
   "metadata": {},
   "outputs": [
    {
     "name": "stdout",
     "output_type": "stream",
     "text": [
      "1\n",
      "3\n",
      "7\n",
      "6\n",
      "2\n",
      "Goal is found\n"
     ]
    }
   ],
   "source": [
    "gr={1:[2,3],\n",
    "  2:[4,5],\n",
    "  3:[6,7],\n",
    "  4:[],\n",
    "  5:[],\n",
    "  6:[],\n",
    "  7:[]}\n",
    "def dfs(gr,st,goal):\n",
    "    explored=[]\n",
    "    frontier=[]\n",
    "    explored.append(st)\n",
    "    frontier.append(st)\n",
    "    while frontier:\n",
    "        m=frontier.pop()\n",
    "        print(m,end='\\n')\n",
    "        if m==goal:\n",
    "            print(\"Goal is found\")\n",
    "            break\n",
    "        for n in gr[m]:\n",
    "            if n not in explored:\n",
    "                explored.append(n)\n",
    "                frontier.append(n)\n",
    "dfs(gr,1,2)"
   ]
  },
  {
   "cell_type": "markdown",
   "id": "b7152adf",
   "metadata": {},
   "source": [
    "# depth-limited search"
   ]
  },
  {
   "cell_type": "code",
   "execution_count": 31,
   "id": "2dfdd4ee",
   "metadata": {},
   "outputs": [
    {
     "name": "stdout",
     "output_type": "stream",
     "text": [
      "goal not found\n"
     ]
    }
   ],
   "source": [
    "gr={1:[2,3],\n",
    "  2:[4,5],\n",
    "  3:[6,7],\n",
    "  4:[],\n",
    "  5:[],\n",
    "  6:[],\n",
    "  7:[]}\n",
    "def dfs(gr,st,goal,dl):\n",
    "    explored=[]\n",
    "    frontier=[]\n",
    "    explored.append(st)\n",
    "    frontier.append(st)\n",
    "    while len(frontier)<=dl:\n",
    "        m=frontier.pop()\n",
    "        if m==goal:\n",
    "            break\n",
    "        for n in gr[m]:\n",
    "            if n not in explored:\n",
    "                explored.append(n)\n",
    "                frontier.append(n)\n",
    "    if goal in explored:\n",
    "        print(\"goal is found\")\n",
    "    elif goal not in explored:\n",
    "        print(\"goal not found\")\n",
    "dfs(gr,1,4,2)"
   ]
  },
  {
   "cell_type": "markdown",
   "id": "59061d4c",
   "metadata": {},
   "source": [
    "# iteararive deepening search"
   ]
  },
  {
   "cell_type": "code",
   "execution_count": null,
   "id": "a01fb746",
   "metadata": {},
   "outputs": [],
   "source": []
  }
 ],
 "metadata": {
  "kernelspec": {
   "display_name": "Python 3 (ipykernel)",
   "language": "python",
   "name": "python3"
  },
  "language_info": {
   "codemirror_mode": {
    "name": "ipython",
    "version": 3
   },
   "file_extension": ".py",
   "mimetype": "text/x-python",
   "name": "python",
   "nbconvert_exporter": "python",
   "pygments_lexer": "ipython3",
   "version": "3.11.3"
  }
 },
 "nbformat": 4,
 "nbformat_minor": 5
}
