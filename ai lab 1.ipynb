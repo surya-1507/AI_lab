{
 "cells": [
  {
   "cell_type": "code",
   "execution_count": 1,
   "id": "2c004c90",
   "metadata": {},
   "outputs": [
    {
     "name": "stdout",
     "output_type": "stream",
     "text": [
      "Enter graph: {0:[1,2],1:[3],2:[3,4],3:[4],4:[0]}\n",
      "Enter source: 0\n",
      "Enter goal:3\n",
      "At step 1 :\n",
      "Frontier is : [1, 2]\n",
      "Explored is : [0, 1, 2]\n",
      "At step 2 :\n",
      "Frontier is : [2, 3]\n",
      "Explored is : [0, 1, 2, 3]\n",
      "At step 3 :\n",
      "Frontier is : [3, 4]\n",
      "Explored is : [0, 1, 2, 3, 4]\n",
      "Found\n",
      "[0, 1, 2, 3]\n"
     ]
    },
    {
     "data": {
      "text/plain": [
       "'Goal node not found'"
      ]
     },
     "execution_count": 1,
     "metadata": {},
     "output_type": "execute_result"
    }
   ],
   "source": [
    "#1a\n",
    "def bfs(graph, node, goal):\n",
    "    visited = []\n",
    "    queue = []\n",
    "    path=[]\n",
    "    j=1\n",
    "    visited.append(node)\n",
    "    queue.append(node)\n",
    "    while len(queue) != 0:\n",
    "        p = queue.pop(0)\n",
    "        path.append(p)\n",
    "        #print(p, end=\" \")\n",
    "        if p == goal:\n",
    "            print(\"Found\")\n",
    "            print(path)\n",
    "            break\n",
    "        for i in graph[p]:\n",
    "            if i not in visited:\n",
    "                visited.append(i)\n",
    "                queue.append(i)\n",
    "        print(f\"At step {j} :\")\n",
    "        print(\"Frontier is :\",queue)\n",
    "        print(\"Explored is :\",visited)\n",
    "        j+=1\n",
    "    return (\"Goal node not found\")\n",
    "graph=eval(input('Enter graph: '))\n",
    "s=int(input('Enter source: '))\n",
    "goal_node=int(input(\"Enter goal:\")) \n",
    "bfs(graph, s, goal_node)"
   ]
  },
  {
   "cell_type": "code",
   "execution_count": 2,
   "id": "f8cfe16b",
   "metadata": {
    "scrolled": true
   },
   "outputs": [
    {
     "name": "stdout",
     "output_type": "stream",
     "text": [
      "Enter graph: {0:[1,2],1:[3],2:[3,4],3:[4],4:[0]}\n",
      "Enter source: 0\n",
      "Enter goal:4\n",
      "At step 1 :\n",
      "Frontier is : [1, 2]\n",
      "Explored is : [0, 1, 2]\n",
      "At step 2 :\n",
      "Frontier is : [1, 3, 4]\n",
      "Explored is : [0, 1, 2, 3, 4]\n",
      "Found\n",
      "[0, 2, 4]\n"
     ]
    },
    {
     "data": {
      "text/plain": [
       "'Goal node not found'"
      ]
     },
     "execution_count": 2,
     "metadata": {},
     "output_type": "execute_result"
    }
   ],
   "source": [
    "#1a\n",
    "def dfs(graph, node, goal):\n",
    "    visited = []\n",
    "    queue = []\n",
    "    path=[]\n",
    "    j=1\n",
    "    visited.append(node)\n",
    "    queue.append(node)\n",
    "    while queue :\n",
    "        p = queue.pop()\n",
    "        path.append(p)\n",
    "        #print(p, end=\" \")\n",
    "        if p == goal:\n",
    "            print(\"Found\")\n",
    "            print(path)\n",
    "            break\n",
    "        for i in graph[p]:\n",
    "            if i not in visited:\n",
    "                visited.append(i)\n",
    "                queue.append(i)\n",
    "        print(f\"At step {j} :\")\n",
    "        print(\"Frontier is :\",queue)\n",
    "        print(\"Explored is :\",visited)\n",
    "        j+=1\n",
    "    return (\"Goal node not found\")\n",
    "graph=eval(input('Enter graph: '))\n",
    "s=int(input('Enter source: '))\n",
    "goal_node = int(input(\"Enter goal:\"))\n",
    "dfs(graph, s, goal_node)"
   ]
  },
  {
   "cell_type": "markdown",
   "id": "833e029c",
   "metadata": {},
   "source": [
    "### IDFS"
   ]
  },
  {
   "cell_type": "code",
   "execution_count": 9,
   "id": "40ecd326",
   "metadata": {
    "scrolled": true
   },
   "outputs": [
    {
     "name": "stdout",
     "output_type": "stream",
     "text": [
      "Enter graph: {0:[1,2],1:[0,4],2:[0,3],3:[2,4],4:[1,3,5,6],5:[4,6],6:[4,5]}\n",
      "Enter source: 0\n",
      "Enter goal: 3\n",
      "At step 1 :\n",
      "Frontier is : [1, 2]\n",
      "Explored is : [0, 1, 2]\n",
      "At step 1 :\n",
      "Frontier is : [1, 2]\n",
      "Explored is : [0, 1, 2]\n",
      "At step 2 :\n",
      "Frontier is : [1, 3]\n",
      "Explored is : [0, 1, 2, 3]\n",
      "At step 1 :\n",
      "Frontier is : [1, 2]\n",
      "Explored is : [0, 1, 2]\n",
      "At step 2 :\n",
      "Frontier is : [1, 3]\n",
      "Explored is : [0, 1, 2, 3]\n",
      "[0, 2, 3]\n",
      "At step 1 :\n",
      "Frontier is : [1, 2]\n",
      "Explored is : [0, 1, 2]\n",
      "At step 2 :\n",
      "Frontier is : [1, 3]\n",
      "Explored is : [0, 1, 2, 3]\n",
      "[0, 2, 3]\n",
      "At step 1 :\n",
      "Frontier is : [1, 2]\n",
      "Explored is : [0, 1, 2]\n",
      "At step 2 :\n",
      "Frontier is : [1, 3]\n",
      "Explored is : [0, 1, 2, 3]\n",
      "[0, 2, 3]\n",
      "Goal node found\n"
     ]
    }
   ],
   "source": [
    "graph=eval(input('Enter graph: '))\n",
    "start=int(input('Enter source: '))\n",
    "goal=int(input('Enter goal: '))\n",
    "idfs(graph,start,goal)"
   ]
  },
  {
   "cell_type": "code",
   "execution_count": 7,
   "id": "208c8c6b",
   "metadata": {},
   "outputs": [],
   "source": [
    "def dls(graph,start,goal,depth):\n",
    "    frontier,explored,path=[],[],[]\n",
    "    explored.append(start)\n",
    "    frontier.append(start)\n",
    "    level,flag,j=0,0,1\n",
    "    while frontier and level <=depth:\n",
    "        node=frontier.pop()\n",
    "        path.append(node)\n",
    "        if node==goal:\n",
    "            flag=1\n",
    "            print(path)\n",
    "            return flag\n",
    "            break\n",
    "        for i in graph[node]:\n",
    "            if i not in explored:\n",
    "                explored.append(i)\n",
    "                frontier.append(i)\n",
    "        level+=1\n",
    "        print(f\"At step {j} :\")\n",
    "        print(\"Frontier is :\",frontier)\n",
    "        print(\"Explored is :\",explored)\n",
    "        j+=1\n",
    "    if len(frontier)==0 or level>depth:\n",
    "        return flag\n",
    "    \n",
    "    "
   ]
  },
  {
   "cell_type": "code",
   "execution_count": 8,
   "id": "12254451",
   "metadata": {},
   "outputs": [],
   "source": [
    "def idfs(graph,start,goal):\n",
    "    res=[]\n",
    "    for d in range(5):\n",
    "        res.append(dls(graph,start,goal,d))\n",
    "    if res[-1]==1:\n",
    "        print(\"Goal node found\")\n",
    "    else:\n",
    "        print(\"Goal node not found\")"
   ]
  },
  {
   "cell_type": "markdown",
   "id": "f4d8f17a",
   "metadata": {},
   "source": [
    "### Uniform cost"
   ]
  },
  {
   "cell_type": "code",
   "execution_count": 4,
   "id": "96464efe",
   "metadata": {},
   "outputs": [],
   "source": [
    "import heapq\n",
    "def uniform_cost(graph,start,goal):\n",
    "    explored=set()\n",
    "    frontier=[(0,start)]\n",
    "    path,j=[],1\n",
    "    while frontier:\n",
    "        path_cost,node=heapq.heappop(frontier)\n",
    "        path.append(node)\n",
    "        if node not in explored:\n",
    "            explored.add(node)\n",
    "            if node==goal:\n",
    "                print(\"goal node found\")\n",
    "                print(path)\n",
    "                return path_cost\n",
    "            for neighbour,neighbour_cost in graph[node].items():\n",
    "                if neighbour not in explored:\n",
    "                    heapq.heappush(frontier,(path_cost+neighbour_cost,neighbour))\n",
    "        print(f\"At step {j} :\")\n",
    "        print(\"Frontier is :\",frontier)\n",
    "        print(\"Explored is :\",explored)\n",
    "        j+=1\n",
    "    return None\n",
    "                "
   ]
  },
  {
   "cell_type": "code",
   "execution_count": 6,
   "id": "9fbc3df3",
   "metadata": {},
   "outputs": [
    {
     "name": "stdout",
     "output_type": "stream",
     "text": [
      "Enter graph:{'A':{'B':1,'C':3,'D':7},'B':{'D':5},'C':{'D':12}}\n",
      "Enter source: A\n",
      "Enter goal: C\n",
      "At step 1 :\n",
      "Frontier is : [(1, 'B'), (3, 'C'), (7, 'D')]\n",
      "Explored is : {'A'}\n",
      "At step 2 :\n",
      "Frontier is : [(3, 'C'), (7, 'D'), (6, 'D')]\n",
      "Explored is : {'A', 'B'}\n",
      "goal node found\n",
      "['A', 'B', 'C']\n",
      "3\n"
     ]
    }
   ],
   "source": [
    "g=eval(input(\"Enter graph:\"))\n",
    "#g={'A':{'D':10,'B':5},'B':{'C':4,'F':15},'C':{'E':8},'D':{'F':11},'F':{'E':4}}\n",
    "start=input('Enter source: ')\n",
    "goal=input('Enter goal: ')\n",
    "res=uniform_cost(g,start,goal)\n",
    "print(res)"
   ]
  },
  {
   "cell_type": "code",
   "execution_count": 11,
   "id": "dbcb9826",
   "metadata": {},
   "outputs": [
    {
     "name": "stdout",
     "output_type": "stream",
     "text": [
      "Enter edges: [[0,1],[0,2],[1,3],[2,3],[2,4],[3,4],[0,4]]\n",
      "Enter initial state: 1\n",
      "Enter goal state: 4\n",
      "\n",
      "Intersection Node: 3\n",
      "Path: [1, 3, 2, 4]\n"
     ]
    }
   ],
   "source": [
    "#1e\n",
    "from collections import defaultdict\n",
    "graph = defaultdict(list)\n",
    "edges = eval(input('Enter edges: '))\n",
    "for i in edges:\n",
    "    graph[i[0]].append(i[1])\n",
    "    graph[i[1]].append(i[0])\n",
    "src = int(input('Enter initial state: '))\n",
    "dest = int(input('Enter goal state: '))\n",
    "visit_f = [src]\n",
    "visit_b = [dest]\n",
    "front_f, top_f, front_b, top_b = 0, 0, 0, 0\n",
    "def bfs_f():\n",
    "    if src == dest:\n",
    "        return src\n",
    "    global front_f, top_f\n",
    "    while front_f <= top_f:\n",
    "        s = visit_f[front_f]\n",
    "        for i in graph[s]:\n",
    "            if i not in visit_f:\n",
    "                visit_f.append(i)\n",
    "                top_f = top_f + 1\n",
    "                if i in visit_b:\n",
    "                    return i\n",
    "        k = bfs_b()\n",
    "        if k != -1:\n",
    "            return k\n",
    "        front_f = front_f + 1\n",
    "    return -1\n",
    "def bfs_b():\n",
    "    global front_b, top_b\n",
    "    while front_b <= top_b:\n",
    "        s = visit_b[front_b]\n",
    "        for i in graph[s]:\n",
    "            if i not in visit_b:\n",
    "                visit_b.append(i)\n",
    "                top_b = top_b + 1\n",
    "                if i in visit_f:\n",
    "                    return i\n",
    "        k = bfs_f()\n",
    "        if k != -1:\n",
    "            return k\n",
    "        front_b = front_b + 1\n",
    "    return -1\n",
    "def remove(l, g):\n",
    "    a = l.index(g)\n",
    "    for i in range(a, 0, -1):\n",
    "        if [l[i], l[i - 1]] not in edges and [l[i - 1], l[i]] not in edges:\n",
    "            l.remove(l[i - 1])\n",
    "    a = l.index(g)\n",
    "    return a\n",
    "g = bfs_f()\n",
    "if g == -1:\n",
    "    print('No intersection')\n",
    "else:\n",
    "    print('\\nIntersection Node:', g)\n",
    "    a = remove(visit_f, g)\n",
    "    b = remove(visit_b, g)\n",
    "    k = visit_f[:a] + visit_b[b::-1]\n",
    "    print('Path:', k)\n"
   ]
  },
  {
   "cell_type": "code",
   "execution_count": null,
   "id": "b4f279fa",
   "metadata": {},
   "outputs": [],
   "source": []
  }
 ],
 "metadata": {
  "kernelspec": {
   "display_name": "Python 3 (ipykernel)",
   "language": "python",
   "name": "python3"
  },
  "language_info": {
   "codemirror_mode": {
    "name": "ipython",
    "version": 3
   },
   "file_extension": ".py",
   "mimetype": "text/x-python",
   "name": "python",
   "nbconvert_exporter": "python",
   "pygments_lexer": "ipython3",
   "version": "3.9.12"
  }
 },
 "nbformat": 4,
 "nbformat_minor": 5
}
