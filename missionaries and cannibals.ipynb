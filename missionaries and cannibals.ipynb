{
 "cells": [
  {
   "cell_type": "code",
   "execution_count": 1,
   "id": "dbda42cb",
   "metadata": {},
   "outputs": [
    {
     "name": "stdout",
     "output_type": "stream",
     "text": [
      "[[3, 3, 1], [2, 2, 0], [3, 2, 1], [3, 0, 0], [3, 1, 1], [1, 1, 0], [2, 2, 1], [0, 2, 0], [0, 3, 1], [0, 1, 0], [0, 2, 1], [0, 0, 0]]\n",
      "[[3, 3, 1], [2, 2, 0], [3, 2, 1], [3, 0, 0], [3, 1, 1], [1, 1, 0], [2, 2, 1], [0, 2, 0], [0, 3, 1], [0, 1, 0], [1, 1, 1], [0, 0, 0]]\n",
      "[[3, 3, 1], [3, 1, 0], [3, 2, 1], [3, 0, 0], [3, 1, 1], [1, 1, 0], [2, 2, 1], [0, 2, 0], [0, 3, 1], [0, 1, 0], [0, 2, 1], [0, 0, 0]]\n",
      "[[3, 3, 1], [3, 1, 0], [3, 2, 1], [3, 0, 0], [3, 1, 1], [1, 1, 0], [2, 2, 1], [0, 2, 0], [0, 3, 1], [0, 1, 0], [1, 1, 1], [0, 0, 0]]\n"
     ]
    }
   ],
   "source": [
    "def is_valid(state):\n",
    "    if(state[0]>3 or state[1]>3 or state[2]>1 or state[0]<0 or state[1]<0 or state[2]<0 or (0<state[0]<state[1]) or (0<(3-state[0])<(3-state[1]))):\n",
    "        return False\n",
    "    else:\n",
    "        return True\n",
    "def generate_next_states(M,C,B):\n",
    "    moves = [[1, 0, 1], [0, 1, 1], [2, 0, 1], [0, 2, 1], [1, 1, 1]]\n",
    "    valid_states = []\n",
    "    for each in moves:\n",
    "        if(B==1):next_state = [x1 - x2 for (x1, x2) in zip([M, C, B], each)]\n",
    "        else:next_state = [x1 + x2 for (x1, x2) in zip([M, C, B], each)]\n",
    "        if (is_valid(next_state)):   \n",
    "            valid_states.append(next_state)\n",
    "    return valid_states\n",
    "solutions = []\n",
    "def find_sol(M,C,B,visited):\n",
    "    if([M,C,B]==[0,0,0]):\n",
    "        solutions.append(visited+[[0,0,0]])\n",
    "        return True\n",
    "    elif([M,C,B] in visited):\n",
    "        return False\n",
    "    else:\n",
    "        visited.append([M,C,B])\n",
    "        if(B==1):\n",
    "            for each_s in generate_next_states(M,C,B):\n",
    "                find_sol(each_s[0],each_s[1],each_s[2],visited[:])\n",
    "        else:\n",
    "            for each_s in generate_next_states(M,C,B):\n",
    "                find_sol(each_s[0],each_s[1],each_s[2],visited[:])\n",
    "find_sol(3,3,1,[])\n",
    "solutions.sort()\n",
    "for each_sol in solutions:\n",
    "    print(each_sol)"
   ]
  },
  {
   "cell_type": "code",
   "execution_count": null,
   "id": "84df337e",
   "metadata": {},
   "outputs": [],
   "source": []
  }
 ],
 "metadata": {
  "kernelspec": {
   "display_name": "Python 3 (ipykernel)",
   "language": "python",
   "name": "python3"
  },
  "language_info": {
   "codemirror_mode": {
    "name": "ipython",
    "version": 3
   },
   "file_extension": ".py",
   "mimetype": "text/x-python",
   "name": "python",
   "nbconvert_exporter": "python",
   "pygments_lexer": "ipython3",
   "version": "3.9.7"
  }
 },
 "nbformat": 4,
 "nbformat_minor": 5
}
