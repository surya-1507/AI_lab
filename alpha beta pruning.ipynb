{
 "cells": [
  {
   "cell_type": "code",
   "execution_count": 1,
   "id": "8b146695",
   "metadata": {},
   "outputs": [
    {
     "name": "stdout",
     "output_type": "stream",
     "text": [
      "Enter the number of nodes: 8\n",
      "Enter the values for each node:\n",
      "Node 0: 3\n",
      "Node 1: 5\n",
      "Node 2: 6\n",
      "Node 3: 9\n",
      "Node 4: 1\n",
      "Node 5: 2\n",
      "Node 6: 0\n",
      "Node 7: -1\n",
      "Enter the depth: 3\n",
      "Pruning occur at node is : 5 \n",
      "Pruning occur at node is : 6 \n",
      "Pruning occur at node is : 6 \n",
      "The optimal value is: 5\n"
     ]
    }
   ],
   "source": [
    "#8b-x\n",
    "MAX, MIN = 1000, -1000\n",
    "\n",
    "def minimax(depth, nodeIndex, maximizingPlayer, values, alpha, beta):\n",
    "    if depth == 0 or nodeIndex >= len(values):\n",
    "        return values[nodeIndex]\n",
    "    \n",
    "    if maximizingPlayer:\n",
    "        best = MIN\n",
    "        for i in range(0, 2):\n",
    "            val = minimax(depth - 1, nodeIndex * 2 + i, False, values, alpha, beta)\n",
    "            best = max(best, val)\n",
    "            alpha = max(alpha, best)\n",
    "            if beta <= alpha:\n",
    "                print(f\"Pruning occur at node is : {val} \")\n",
    "                break\n",
    "            \n",
    "        return best\n",
    "    else:\n",
    "        best = MAX\n",
    "        for i in range(0, 2):\n",
    "            val = minimax(depth - 1, nodeIndex * 2 + i, True, values, alpha, beta)\n",
    "            best = min(best, val)\n",
    "            beta = min(beta, best)\n",
    "            if beta <= alpha:\n",
    "                break\n",
    "            print(f\"Pruning occur at node is : {val} \")\n",
    "        return best\n",
    "\n",
    "values = []\n",
    "num_nodes = int(input(\"Enter the number of nodes: \"))\n",
    "print(\"Enter the values for each node:\")\n",
    "for i in range(num_nodes):\n",
    "    value = int(input(f\"Node {i}: \"))\n",
    "    values.append(value)\n",
    "    \n",
    "depth = int(input(\"Enter the depth: \"))\n",
    "print(\"The optimal value is:\", minimax(depth, 0, True, values, MIN, MAX))\n"
   ]
  },
  {
   "cell_type": "code",
   "execution_count": null,
   "id": "1ec52b46",
   "metadata": {},
   "outputs": [],
   "source": []
  }
 ],
 "metadata": {
  "kernelspec": {
   "display_name": "Python 3 (ipykernel)",
   "language": "python",
   "name": "python3"
  },
  "language_info": {
   "codemirror_mode": {
    "name": "ipython",
    "version": 3
   },
   "file_extension": ".py",
   "mimetype": "text/x-python",
   "name": "python",
   "nbconvert_exporter": "python",
   "pygments_lexer": "ipython3",
   "version": "3.9.12"
  }
 },
 "nbformat": 4,
 "nbformat_minor": 5
}
