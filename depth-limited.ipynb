{
 "cells": [
  {
   "cell_type": "code",
   "execution_count": null,
   "id": "0c2fcc51",
   "metadata": {},
   "outputs": [],
   "source": [
    "gr={1:[2,3],\n",
    "  2:[4,5],\n",
    "  3:[6,7],\n",
    "  4:[],\n",
    "  5:[],\n",
    "  6:[],\n",
    "  7:[]}\n",
    "def dfs(gr,st,goal,dl):\n",
    "    explored=[]\n",
    "    frontier=[]\n",
    "    explored.append(st)\n",
    "    frontier.append(st)\n",
    "    while len(frontier)<=dl:\n",
    "        m=frontier.pop()\n",
    "        if m==goal:\n",
    "            break\n",
    "        for n in gr[m]:\n",
    "            if n not in explored:\n",
    "                explored.append(n)\n",
    "                frontier.append(n)\n",
    "    if goal in explored:\n",
    "        print(\"goal is found\")\n",
    "    elif goal not in explored:\n",
    "        print(\"goal not found\")\n",
    "dfs(gr,1,4,2)"
   ]
  }
 ],
 "metadata": {
  "kernelspec": {
   "display_name": "Python 3 (ipykernel)",
   "language": "python",
   "name": "python3"
  },
  "language_info": {
   "codemirror_mode": {
    "name": "ipython",
    "version": 3
   },
   "file_extension": ".py",
   "mimetype": "text/x-python",
   "name": "python",
   "nbconvert_exporter": "python",
   "pygments_lexer": "ipython3",
   "version": "3.11.3"
  }
 },
 "nbformat": 4,
 "nbformat_minor": 5
}
