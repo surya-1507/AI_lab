{
 "cells": [
  {
   "cell_type": "code",
   "execution_count": 1,
   "id": "072033b7",
   "metadata": {},
   "outputs": [
    {
     "name": "stdout",
     "output_type": "stream",
     "text": [
      "Enter nodes with heuristic costs: {'A':-1,'B':5,'C':2,'D':4,'E':7,'F':9}\n",
      "Enter graph: {'A':{'OR':['B'],'AND':['C','D']},'B':{'OR':['E','F']}}\n",
      "Updated Cost:\n",
      "B : {'OR': ['E', 'F']} >>> {'E OR F': 8}\n",
      "A : {'OR': ['B'], 'AND': ['C', 'D']} >>> {'C AND D': 8, 'B': 9}\n",
      "Shortest Path:\n",
      " A<--(C AND D) [C + D]\n"
     ]
    }
   ],
   "source": [
    "#7\n",
    "def Cost(H, condition, weight=1):\n",
    "    cost = {}\n",
    "    if 'AND' in condition:\n",
    "        AND_nodes = condition['AND']\n",
    "        Path_A = ' AND '.join(AND_nodes)\n",
    "        PathA = sum(H[node] + weight for node in AND_nodes)\n",
    "        cost[Path_A] = PathA\n",
    "    if 'OR' in condition:\n",
    "        OR_nodes = condition['OR']\n",
    "        Path_B = ' OR '.join(OR_nodes)\n",
    "        PathB = min(H[node] + weight for node in OR_nodes)\n",
    "        cost[Path_B] = PathB\n",
    "    return cost\n",
    "\n",
    "def update_cost(H, Conditions, weight=1):\n",
    "    Main_nodes = list(Conditions.keys())\n",
    "    Main_nodes.reverse()\n",
    "    least_cost = {}\n",
    "    for key in Main_nodes:\n",
    "        condition = Conditions[key]\n",
    "        print(key, ':', Conditions[key], '>>>', Cost(H, condition, weight))\n",
    "        c = Cost(H, condition, weight)\n",
    "        H[key] = min(c.values())\n",
    "        least_cost[key] = Cost(H, condition, weight)\n",
    "    return least_cost\n",
    "\n",
    "def shortest_path(Start, Updated_cost, H):\n",
    "    Path = Start\n",
    "    if Start in Updated_cost.keys():\n",
    "        Min_cost = min(Updated_cost[Start].values())\n",
    "        key = list(Updated_cost[Start].keys())\n",
    "        values = list(Updated_cost[Start].values())\n",
    "        Index = values.index(Min_cost)\n",
    "        Next = key[Index].split()\n",
    "        if len(Next) == 1:\n",
    "            Start = Next[0]\n",
    "            Path += '<--' + shortest_path(Start, Updated_cost, H)\n",
    "        else:\n",
    "            Path += '<--(' + key[Index] + ') '\n",
    "            Start = Next[0]\n",
    "            Path += '[' + shortest_path(Start, Updated_cost, H) + ' + '\n",
    "            Start = Next[-1]\n",
    "            Path += shortest_path(Start, Updated_cost, H) + ']'\n",
    "    return Path\n",
    "\n",
    "H = eval(input('Enter nodes with heuristic costs: '))\n",
    "Conditions = eval(input('Enter graph: '))\n",
    "weight = 1\n",
    "print('Updated Cost:')\n",
    "Updated_cost = update_cost(H, Conditions, weight)\n",
    "print('Shortest Path:\\n', shortest_path('A', Updated_cost, H))\n"
   ]
  },
  {
   "cell_type": "code",
   "execution_count": null,
   "id": "2e9cb164",
   "metadata": {},
   "outputs": [],
   "source": []
  }
 ],
 "metadata": {
  "kernelspec": {
   "display_name": "Python 3 (ipykernel)",
   "language": "python",
   "name": "python3"
  },
  "language_info": {
   "codemirror_mode": {
    "name": "ipython",
    "version": 3
   },
   "file_extension": ".py",
   "mimetype": "text/x-python",
   "name": "python",
   "nbconvert_exporter": "python",
   "pygments_lexer": "ipython3",
   "version": "3.9.12"
  }
 },
 "nbformat": 4,
 "nbformat_minor": 5
}
