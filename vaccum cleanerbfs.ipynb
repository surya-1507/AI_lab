{
 "cells": [
  {
   "cell_type": "code",
   "execution_count": 5,
   "id": "299a0c6e",
   "metadata": {},
   "outputs": [],
   "source": [
    "\n",
    "def generate_next_states(A_state,B_state,cleaner_loc):\n",
    "    l=[]\n",
    "    if A_state=='dirt' and cleaner_loc=='A':\n",
    "        A_state='clean'\n",
    "        l.append([A_state,B_state,cleaner_loc])\n",
    "    if B_state=='dirt' and cleaner_loc=='A':\n",
    "        cleaner_loc='B'\n",
    "        l.append([A_state,B_state,cleaner_loc])\n",
    "    if B_state=='dirt' and cleaner_loc=='B':\n",
    "        B_state='clean'\n",
    "        l.append([A_state,B_state,cleaner_loc])\n",
    "    if A_state=='dirt' and cleaner_loc=='B':\n",
    "        cleaner_loc='A'\n",
    "        l.append([A_state,B_state,cleaner_loc])\n",
    "    return l\n",
    "        \n",
    "        \n",
    "             "
   ]
  },
  {
   "cell_type": "code",
   "execution_count": 6,
   "id": "011e9d2a",
   "metadata": {},
   "outputs": [],
   "source": [
    "def vaccum_cleaner(initial_state,goal_state,cleaner_loc):\n",
    "    frontier,explored,path,l=[],[],[],[]\n",
    "    frontier.append(initial_state)\n",
    "    i=1\n",
    "    while frontier:\n",
    "        node=frontier.pop(0)\n",
    "        explored.append(node)\n",
    "        path.append(node)\n",
    "        x,y,cl=node[0],node[1],node[2]\n",
    "        #print(x,y)\n",
    "        if x==goal_state[0] and y==goal_state[1]:\n",
    "            print(\"Goal state reached\")\n",
    "            print(\"Both rooms are clean\")\n",
    "            return path\n",
    "            break\n",
    "        else:\n",
    "            for next_state in generate_next_states(x,y,cl):\n",
    "                if next_state not in explored:\n",
    "                    frontier.append(next_state)\n",
    "        print(f\"At step {i}:\")\n",
    "        i+=1\n",
    "        print(\"Frontier is :\",frontier)\n",
    "        print(\"Explored is :\",explored)"
   ]
  },
  {
   "cell_type": "code",
   "execution_count": 7,
   "id": "dffb737c",
   "metadata": {},
   "outputs": [
    {
     "name": "stdout",
     "output_type": "stream",
     "text": [
      "Enter the status of room Adirt\n",
      "Enter the status of room Bdirt\n",
      "Enter the location of vaccum cleanerA\n",
      "At step 1:\n",
      "Frontier is : [['clean', 'dirt', 'A'], ['clean', 'dirt', 'B'], ['clean', 'clean', 'B']]\n",
      "Explored is : [['dirt', 'dirt', 'A']]\n",
      "At step 2:\n",
      "Frontier is : [['clean', 'dirt', 'B'], ['clean', 'clean', 'B'], ['clean', 'dirt', 'B'], ['clean', 'clean', 'B']]\n",
      "Explored is : [['dirt', 'dirt', 'A'], ['clean', 'dirt', 'A']]\n",
      "At step 3:\n",
      "Frontier is : [['clean', 'clean', 'B'], ['clean', 'dirt', 'B'], ['clean', 'clean', 'B'], ['clean', 'clean', 'B']]\n",
      "Explored is : [['dirt', 'dirt', 'A'], ['clean', 'dirt', 'A'], ['clean', 'dirt', 'B']]\n",
      "Goal state reached\n",
      "Both rooms are clean\n"
     ]
    },
    {
     "data": {
      "text/plain": [
       "[['dirt', 'dirt', 'A'],\n",
       " ['clean', 'dirt', 'A'],\n",
       " ['clean', 'dirt', 'B'],\n",
       " ['clean', 'clean', 'B']]"
      ]
     },
     "execution_count": 7,
     "metadata": {},
     "output_type": "execute_result"
    }
   ],
   "source": [
    "\n",
    "a=input(\"Enter the status of room A\")\n",
    "b=input(\"Enter the status of room B\")\n",
    "initial_state=[]\n",
    "cleaner_loc=input(\"Enter the location of vaccum cleaner\")\n",
    "initial_state.extend((a,b,cleaner_loc))\n",
    "goal_state=[\"clean\",\"clean\"]\n",
    "vaccum_cleaner(initial_state,goal_state,cleaner_loc)"
   ]
  },
  {
   "cell_type": "code",
   "execution_count": 5,
   "id": "2e6ae673",
   "metadata": {},
   "outputs": [
    {
     "data": {
      "text/plain": [
       "[0, 1, 'A']"
      ]
     },
     "execution_count": 5,
     "metadata": {},
     "output_type": "execute_result"
    }
   ],
   "source": [
    "generate_next_states(1,1,'A')"
   ]
  }
 ],
 "metadata": {
  "kernelspec": {
   "display_name": "Python 3 (ipykernel)",
   "language": "python",
   "name": "python3"
  },
  "language_info": {
   "codemirror_mode": {
    "name": "ipython",
    "version": 3
   },
   "file_extension": ".py",
   "mimetype": "text/x-python",
   "name": "python",
   "nbconvert_exporter": "python",
   "pygments_lexer": "ipython3",
   "version": "3.9.12"
  }
 },
 "nbformat": 4,
 "nbformat_minor": 5
}
